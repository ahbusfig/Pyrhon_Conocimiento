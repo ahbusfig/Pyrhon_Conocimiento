{
 "cells": [
  {
   "cell_type": "markdown",
   "metadata": {
    "vscode": {
     "languageId": "markdown"
    }
   },
   "source": [
    "# Estructuras de Datos\n",
    "\n",
    "## Series\n",
    "Una Serie es una estructura unidimensional similar a un array de NumPy, con etiquetas (índices) que le dan un significado a los valores.\n",
    "\n",
    "## DataFrames\n",
    "Un DataFrame es una estructura bidimensional (tabla) con columnas de diferentes tipos de datos. Es la estructura principal de pandas y se usa para almacenar datos tabulares."
   ]
  },
  {
   "cell_type": "code",
   "execution_count": 1,
   "metadata": {},
   "outputs": [
    {
     "name": "stdout",
     "output_type": "stream",
     "text": [
      "Serie:\n",
      "0    10\n",
      "1    20\n",
      "2    30\n",
      "3    40\n",
      "dtype: int64\n",
      "\n",
      "DataFrame:\n",
      "  Nombre  Edad     Ciudad\n",
      "0    Ana    25     Madrid\n",
      "1   Luis    30  Barcelona\n",
      "2  Pedro    35   Valencia\n"
     ]
    }
   ],
   "source": [
    "import pandas as pd\n",
    "# Crear una Serie\n",
    "serie = pd.Series([10, 20, 30, 40])\n",
    "print(\"Serie:\")\n",
    "print(serie)\n",
    "\n",
    "# Crear un DataFrame\n",
    "df = pd.DataFrame({\n",
    "    \"Nombre\": [\"Ana\", \"Luis\", \"Pedro\"],\n",
    "    \"Edad\": [25, 30, 35],\n",
    "    \"Ciudad\": [\"Madrid\", \"Barcelona\", \"Valencia\"]\n",
    "})\n",
    "print(\"\\nDataFrame:\")\n",
    "print(df)\n"
   ]
  },
  {
   "cell_type": "markdown",
   "metadata": {},
   "source": [
    "# Métodos más Usados para Manipular Datos en Pandas\n",
    "\n",
    "## 1. `head()`\n",
    "Muestra las primeras **n** filas del DataFrame (por defecto, 5 filas)."
   ]
  },
  {
   "cell_type": "code",
   "execution_count": 2,
   "metadata": {},
   "outputs": [
    {
     "name": "stdout",
     "output_type": "stream",
     "text": [
      "   A  B  C\n",
      "x  1  2  3\n",
      "y  3  2  1\n",
      "z  1  2  3\n",
      "  Nombre  Edad\n",
      "0    Ana    25\n",
      "1   Luis    30\n"
     ]
    }
   ],
   "source": [
    "f = pd.DataFrame({\n",
    "    \"Nombre\": [\"Ana\", \"Luis\", \"Pedro\", \"María\", \"Juan\"],\n",
    "    \"Edad\": [25, 30, 35, 28, 22],\n",
    "})\n",
    "\n",
    "ej1 = pd.DataFrame([(1,2,3),(3,2,1),(1,2,3)], columns=(\"A\",\"B\",\"C\"), index=(\"x\",\"y\",\"z\"))\n",
    "# Mostrar las primeras 3 filas\n",
    "print(ej1.head(3))\n",
    "print(f.head(2))\n"
   ]
  },
  {
   "cell_type": "markdown",
   "metadata": {},
   "source": [
    "## 2. `info()`\n",
    "Proporciona un resumen conciso del DataFrame, incluyendo el número de entradas, tipo de datos, y valores no nulos.\n"
   ]
  },
  {
   "cell_type": "code",
   "execution_count": 3,
   "metadata": {},
   "outputs": [
    {
     "name": "stdout",
     "output_type": "stream",
     "text": [
      "<class 'pandas.core.frame.DataFrame'>\n",
      "RangeIndex: 3 entries, 0 to 2\n",
      "Data columns (total 3 columns):\n",
      " #   Column  Non-Null Count  Dtype \n",
      "---  ------  --------------  ----- \n",
      " 0   Nombre  3 non-null      object\n",
      " 1   Edad    3 non-null      int64 \n",
      " 2   Ciudad  3 non-null      object\n",
      "dtypes: int64(1), object(2)\n",
      "memory usage: 204.0+ bytes\n"
     ]
    }
   ],
   "source": [
    "df.info()"
   ]
  },
  {
   "cell_type": "markdown",
   "metadata": {},
   "source": [
    "## 3. `describe()`\n",
    "Muestra estadísticas descriptivas como la media, desviación estándar, y valores máximos y mínimos."
   ]
  },
  {
   "cell_type": "code",
   "execution_count": 4,
   "metadata": {},
   "outputs": [
    {
     "data": {
      "text/html": [
       "<div>\n",
       "<style scoped>\n",
       "    .dataframe tbody tr th:only-of-type {\n",
       "        vertical-align: middle;\n",
       "    }\n",
       "\n",
       "    .dataframe tbody tr th {\n",
       "        vertical-align: top;\n",
       "    }\n",
       "\n",
       "    .dataframe thead th {\n",
       "        text-align: right;\n",
       "    }\n",
       "</style>\n",
       "<table border=\"1\" class=\"dataframe\">\n",
       "  <thead>\n",
       "    <tr style=\"text-align: right;\">\n",
       "      <th></th>\n",
       "      <th>Edad</th>\n",
       "    </tr>\n",
       "  </thead>\n",
       "  <tbody>\n",
       "    <tr>\n",
       "      <th>count</th>\n",
       "      <td>3.0</td>\n",
       "    </tr>\n",
       "    <tr>\n",
       "      <th>mean</th>\n",
       "      <td>30.0</td>\n",
       "    </tr>\n",
       "    <tr>\n",
       "      <th>std</th>\n",
       "      <td>5.0</td>\n",
       "    </tr>\n",
       "    <tr>\n",
       "      <th>min</th>\n",
       "      <td>25.0</td>\n",
       "    </tr>\n",
       "    <tr>\n",
       "      <th>25%</th>\n",
       "      <td>27.5</td>\n",
       "    </tr>\n",
       "    <tr>\n",
       "      <th>50%</th>\n",
       "      <td>30.0</td>\n",
       "    </tr>\n",
       "    <tr>\n",
       "      <th>75%</th>\n",
       "      <td>32.5</td>\n",
       "    </tr>\n",
       "    <tr>\n",
       "      <th>max</th>\n",
       "      <td>35.0</td>\n",
       "    </tr>\n",
       "  </tbody>\n",
       "</table>\n",
       "</div>"
      ],
      "text/plain": [
       "       Edad\n",
       "count   3.0\n",
       "mean   30.0\n",
       "std     5.0\n",
       "min    25.0\n",
       "25%    27.5\n",
       "50%    30.0\n",
       "75%    32.5\n",
       "max    35.0"
      ]
     },
     "execution_count": 4,
     "metadata": {},
     "output_type": "execute_result"
    }
   ],
   "source": [
    "df.describe()"
   ]
  },
  {
   "cell_type": "markdown",
   "metadata": {
    "vscode": {
     "languageId": "markdown"
    }
   },
   "source": [
    "## 4. `iloc[]` y `loc[]`\n",
    "`iloc[]`: Accede a filas y columnas por índice (numérico).\n",
    "`loc[]`: Accede a filas y columnas por etiquetas."
   ]
  },
  {
   "cell_type": "code",
   "execution_count": 5,
   "metadata": {},
   "outputs": [
    {
     "name": "stdout",
     "output_type": "stream",
     "text": [
      "Usando iloc para seleccionar filas por índice\n",
      "  Nombre  Edad\n",
      "1   Luis    30\n",
      "2  Pedro    35\n",
      "Usando loc para seleccionar filas por etiquetas\n",
      "  Nombre  Edad\n",
      "1   Luis    30\n",
      "2  Pedro    35\n",
      "3  María    28\n"
     ]
    }
   ],
   "source": [
    "# Usando iloc para seleccionar filas por índice\n",
    "print(\"Usando iloc para seleccionar filas por índice\")\n",
    "print(f.iloc[1:3])  # Filas 1 y 2\n",
    "# Usando loc para seleccionar filas por etiquetas\n",
    "print(\"Usando loc para seleccionar filas por etiquetas\")\n",
    "print(f.loc[1:3])  # Filas 1 a 3"
   ]
  },
  {
   "cell_type": "markdown",
   "metadata": {},
   "source": [
    "## 5. `drop()`\n",
    "Elimina filas o columnas del DataFrame."
   ]
  },
  {
   "cell_type": "code",
   "execution_count": 6,
   "metadata": {},
   "outputs": [
    {
     "name": "stdout",
     "output_type": "stream",
     "text": [
      "  Nombre\n",
      "0    Ana\n",
      "1   Luis\n",
      "2  Pedro\n",
      "3  María\n",
      "4   Juan\n",
      "  Nombre  Edad\n",
      "1   Luis    30\n",
      "2  Pedro    35\n",
      "3  María    28\n",
      "4   Juan    22\n"
     ]
    }
   ],
   "source": [
    "# Eliminar la columna 'Edad'\n",
    "f_dropped = f.drop(columns=[\"Edad\"])\n",
    "print(f_dropped)\n",
    "\n",
    "# Eliminar la fila en el índice 0\n",
    "f_dropped_row = f.drop(index=0)\n",
    "print(f_dropped_row)\n"
   ]
  },
  {
   "cell_type": "markdown",
   "metadata": {},
   "source": [
    "## 6. `fillna()`\n",
    "Rellena los valores nulos con un valor específico.\n"
   ]
  },
  {
   "cell_type": "code",
   "execution_count": 7,
   "metadata": {},
   "outputs": [
    {
     "name": "stdout",
     "output_type": "stream",
     "text": [
      "DataFrame con valores nulos:\n",
      "  Nombre  Edad     Ciudad\n",
      "0    Ana  25.0     Madrid\n",
      "1   Luis   NaN  Barcelona\n",
      "2  Pedro  35.0       None\n",
      "3   None  28.0   Valencia\n",
      "\n",
      "DataFrame después de usar fillna():\n",
      "        Nombre       Edad       Ciudad\n",
      "0          Ana  25.000000       Madrid\n",
      "1         Luis  29.333333    Barcelona\n",
      "2        Pedro  35.000000  Desconocida\n",
      "3  Desconocido  28.000000     Valencia\n"
     ]
    }
   ],
   "source": [
    "# Crear un DataFrame con valores nulos\n",
    "df_with_nan = pd.DataFrame({\n",
    "    \"Nombre\": [\"Ana\", \"Luis\", \"Pedro\", None],\n",
    "    \"Edad\": [25, None, 35, 28],\n",
    "    \"Ciudad\": [\"Madrid\", \"Barcelona\", None, \"Valencia\"]\n",
    "})\n",
    "print(\"DataFrame con valores nulos:\")\n",
    "print(df_with_nan)\n",
    "\n",
    "# Rellenar los valores nulos con un valor específico\n",
    "df_filled = df_with_nan.fillna({\n",
    "    \"Nombre\": \"Desconocido\",\n",
    "    \"Edad\": df_with_nan[\"Edad\"].mean(),  # Rellenar con la media de la columna 'Edad'\n",
    "    \"Ciudad\": \"Desconocida\"\n",
    "})\n",
    "print(\"\\nDataFrame después de usar fillna():\")\n",
    "print(df_filled)"
   ]
  },
  {
   "cell_type": "markdown",
   "metadata": {
    "vscode": {
     "languageId": "markdown"
    }
   },
   "source": [
    "## 7. `tail()`\n",
    "El método `tail()` se utiliza para mostrar las últimas **n** filas de un DataFrame. Por defecto, muestra las últimas 5 filas.\n",
    "\n",
    "### Ejemplo de uso:"
   ]
  },
  {
   "cell_type": "code",
   "execution_count": 8,
   "metadata": {},
   "outputs": [
    {
     "data": {
      "text/html": [
       "<div>\n",
       "<style scoped>\n",
       "    .dataframe tbody tr th:only-of-type {\n",
       "        vertical-align: middle;\n",
       "    }\n",
       "\n",
       "    .dataframe tbody tr th {\n",
       "        vertical-align: top;\n",
       "    }\n",
       "\n",
       "    .dataframe thead th {\n",
       "        text-align: right;\n",
       "    }\n",
       "</style>\n",
       "<table border=\"1\" class=\"dataframe\">\n",
       "  <thead>\n",
       "    <tr style=\"text-align: right;\">\n",
       "      <th></th>\n",
       "      <th>Nombre</th>\n",
       "      <th>Edad</th>\n",
       "      <th>Ciudad</th>\n",
       "    </tr>\n",
       "  </thead>\n",
       "  <tbody>\n",
       "    <tr>\n",
       "      <th>2</th>\n",
       "      <td>Pedro</td>\n",
       "      <td>35</td>\n",
       "      <td>Valencia</td>\n",
       "    </tr>\n",
       "  </tbody>\n",
       "</table>\n",
       "</div>"
      ],
      "text/plain": [
       "  Nombre  Edad    Ciudad\n",
       "2  Pedro    35  Valencia"
      ]
     },
     "execution_count": 8,
     "metadata": {},
     "output_type": "execute_result"
    }
   ],
   "source": [
    "df.tail(1)"
   ]
  },
  {
   "cell_type": "markdown",
   "metadata": {
    "vscode": {
     "languageId": "markdown"
    }
   },
   "source": [
    "## 8. `shape`\n",
    "El atributo `shape` se utiliza para obtener las dimensiones de un DataFrame o Serie. Devuelve una tupla que representa el número de filas y columnas.\n",
    "\n",
    "### Ejemplo de uso:"
   ]
  },
  {
   "cell_type": "code",
   "execution_count": 9,
   "metadata": {
    "vscode": {
     "languageId": "ruby"
    }
   },
   "outputs": [
    {
     "name": "stdout",
     "output_type": "stream",
     "text": [
      "Dimensiones de df: (3, 3)\n",
      "Dimensiones de df_filled: (4, 3)\n",
      "Dimensiones de df_with_nan: (4, 3)\n",
      "Dimensiones de ej1: (3, 3)\n",
      "Dimensiones de f: (5, 2)\n",
      "Dimensiones de f_dropped: (5, 1)\n",
      "Dimensiones de f_dropped_row: (4, 2)\n",
      "Dimensiones de serie: (4,)\n"
     ]
    }
   ],
   "source": [
    "# Obtener las dimensiones del DataFrame 'df'\n",
    "print(\"Dimensiones de df:\", df.shape)\n",
    "\n",
    "# Obtener las dimensiones del DataFrame 'df_filled'\n",
    "print(\"Dimensiones de df_filled:\", df_filled.shape)\n",
    "\n",
    "# Obtener las dimensiones del DataFrame 'df_with_nan'\n",
    "print(\"Dimensiones de df_with_nan:\", df_with_nan.shape)\n",
    "\n",
    "# Obtener las dimensiones del DataFrame 'ej1'\n",
    "print(\"Dimensiones de ej1:\", ej1.shape)\n",
    "\n",
    "# Obtener las dimensiones del DataFrame 'f'\n",
    "print(\"Dimensiones de f:\", f.shape)\n",
    "\n",
    "# Obtener las dimensiones del DataFrame 'f_dropped'\n",
    "print(\"Dimensiones de f_dropped:\", f_dropped.shape)\n",
    "\n",
    "# Obtener las dimensiones del DataFrame 'f_dropped_row'\n",
    "print(\"Dimensiones de f_dropped_row:\", f_dropped_row.shape)\n",
    "\n",
    "# Obtener las dimensiones de la Serie 'serie'\n",
    "print(\"Dimensiones de serie:\", serie.shape)"
   ]
  },
  {
   "cell_type": "markdown",
   "metadata": {
    "vscode": {
     "languageId": "markdown"
    }
   },
   "source": [
    "## 8. `shape`\n",
    "El atributo `shape` se utiliza para obtener las dimensiones de un DataFrame o Serie. Devuelve una tupla que representa el número de filas y columnas.\n",
    "\n",
    "### Ejemplo de uso:\n"
   ]
  },
  {
   "cell_type": "code",
   "execution_count": 1,
   "metadata": {},
   "outputs": [
    {
     "name": "stdout",
     "output_type": "stream",
     "text": [
      "Dimensiones de serie_ejemplo: (5,)\n",
      "Dimensiones de df_vacio: (0, 0)\n",
      "Dimensiones de df_una_columna: (5, 1)\n",
      "Dimensiones de df_multiples_columnas: (3, 3)\n",
      "Dimensiones de df_indices_personalizados: (2, 2)\n"
     ]
    }
   ],
   "source": [
    "import pandas as pd\n",
    "\n",
    "# Crear una Serie\n",
    "serie_ejemplo = pd.Series([1, 2, 3, 4, 5])\n",
    "print(\"Dimensiones de serie_ejemplo:\", serie_ejemplo.shape)\n",
    "\n",
    "# Crear un DataFrame vacío\n",
    "df_vacio = pd.DataFrame()\n",
    "print(\"Dimensiones de df_vacio:\", df_vacio.shape)\n",
    "\n",
    "# Crear un DataFrame con una sola columna\n",
    "df_una_columna = pd.DataFrame({\"A\": [1, 2, 3, 4, 5]})\n",
    "print(\"Dimensiones de df_una_columna:\", df_una_columna.shape)\n",
    "\n",
    "# Crear un DataFrame con múltiples columnas\n",
    "df_multiples_columnas = pd.DataFrame({\n",
    "    \"A\": [1, 2, 3],\n",
    "    \"B\": [4, 5, 6],\n",
    "    \"C\": [7, 8, 9]\n",
    "})\n",
    "print(\"Dimensiones de df_multiples_columnas:\", df_multiples_columnas.shape)\n",
    "# Crear un DataFrame con índices personalizados\n",
    "df_indices_personalizados = pd.DataFrame({\n",
    "    \"A\": [1, 2],\n",
    "    \"B\": [3, 4]\n",
    "}, index=[\"fila1\", \"fila2\"])\n",
    "print(\"Dimensiones de df_indices_personalizados:\", df_indices_personalizados.shape)"
   ]
  },
  {
   "cell_type": "markdown",
   "metadata": {
    "vscode": {
     "languageId": "markdown"
    }
   },
   "source": [
    "## 9. `sort_values()`\n",
    "El método `sort_values()` se utiliza para ordenar un DataFrame según una o más columnas.\n",
    "\n",
    "### Ejemplo de uso:\n"
   ]
  },
  {
   "cell_type": "code",
   "execution_count": 2,
   "metadata": {},
   "outputs": [
    {
     "name": "stdout",
     "output_type": "stream",
     "text": [
      "Ordenado por la columna 'A':\n",
      "   A   B\n",
      "4  0  40\n",
      "3  1  10\n",
      "1  2  20\n",
      "0  5  50\n",
      "2  8  30\n",
      "\n",
      "Ordenado por la columna 'B':\n",
      "   A   B\n",
      "3  1  10\n",
      "1  2  20\n",
      "2  8  30\n",
      "4  0  40\n",
      "0  5  50\n",
      "\n",
      "Ordenado por la columna 'A' en orden descendente:\n",
      "   A   B\n",
      "2  8  30\n",
      "0  5  50\n",
      "1  2  20\n",
      "3  1  10\n",
      "4  0  40\n",
      "\n",
      "Ordenado por las columnas 'A' y 'B':\n",
      "   A   B\n",
      "4  0  40\n",
      "3  1  10\n",
      "1  2  20\n",
      "0  5  50\n",
      "2  8  30\n"
     ]
    }
   ],
   "source": [
    "import pandas as pd\n",
    "\n",
    "# Crear un DataFrame de ejemplo\n",
    "data = {'A': [5, 2, 8, 1, 0], 'B': [50, 20, 30, 10, 40]}\n",
    "df = pd.DataFrame(data)\n",
    "\n",
    "# Ordenar por la columna 'A'\n",
    "df_sorted_by_A = df.sort_values(by='A')\n",
    "print(\"Ordenado por la columna 'A':\")\n",
    "print(df_sorted_by_A)\n",
    "\n",
    "# Ordenar por la columna 'B'\n",
    "df_sorted_by_B = df.sort_values(by='B')\n",
    "print(\"\\nOrdenado por la columna 'B':\")\n",
    "print(df_sorted_by_B)\n",
    "\n",
    "# Ordenar por la columna 'A' en orden descendente\n",
    "df_sorted_by_A_desc = df.sort_values(by='A', ascending=False)\n",
    "print(\"\\nOrdenado por la columna 'A' en orden descendente:\")\n",
    "print(df_sorted_by_A_desc)\n",
    "\n",
    "# Ordenar por múltiples columnas, primero por 'A' y luego por 'B'\n",
    "df_sorted_by_A_and_B = df.sort_values(by=['A', 'B'])\n",
    "print(\"\\nOrdenado por las columnas 'A' y 'B':\")\n",
    "print(df_sorted_by_A_and_B)"
   ]
  },
  {
   "cell_type": "markdown",
   "metadata": {},
   "source": [
    "## 10. `groupby()`\n",
    "El método `groupby()` se usa para agrupar datos según una o más columnas y aplicar funciones de agregación."
   ]
  },
  {
   "cell_type": "code",
   "execution_count": 5,
   "metadata": {},
   "outputs": [
    {
     "name": "stdout",
     "output_type": "stream",
     "text": [
      "Categoría\n",
      "A    90\n",
      "B    60\n",
      "Name: Valor, dtype: int64\n"
     ]
    }
   ],
   "source": [
    "# Crear un DataFrame\n",
    "df = pd.DataFrame({\n",
    "    \"Categoría\": [\"A\", \"B\", \"A\", \"B\", \"A\"],\n",
    "    \"Valor\": [10, 20, 30, 40, 50]\n",
    "})\n",
    "\n",
    "# Agrupar por la columna 'Categoría' y calcular la suma\n",
    "df_grouped = df.groupby(\"Categoría\")[\"Valor\"].sum()\n",
    "print(df_grouped)"
   ]
  }
 ],
 "metadata": {
  "kernelspec": {
   "display_name": "Python 3",
   "language": "python",
   "name": "python3"
  },
  "language_info": {
   "codemirror_mode": {
    "name": "ipython",
    "version": 3
   },
   "file_extension": ".py",
   "mimetype": "text/x-python",
   "name": "python",
   "nbconvert_exporter": "python",
   "pygments_lexer": "ipython3",
   "version": "3.12.6"
  }
 },
 "nbformat": 4,
 "nbformat_minor": 2
}
